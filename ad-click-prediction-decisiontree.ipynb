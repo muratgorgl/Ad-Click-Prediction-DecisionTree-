{
 "cells": [
  {
   "cell_type": "code",
   "execution_count": 1,
   "id": "cf3b662b",
   "metadata": {
    "_cell_guid": "b1076dfc-b9ad-4769-8c92-a6c4dae69d19",
    "_uuid": "8f2839f25d086af736a60e9eeb907d3b93b6e0e5",
    "execution": {
     "iopub.execute_input": "2024-09-12T23:11:33.663792Z",
     "iopub.status.busy": "2024-09-12T23:11:33.663269Z",
     "iopub.status.idle": "2024-09-12T23:11:34.608018Z",
     "shell.execute_reply": "2024-09-12T23:11:34.605925Z"
    },
    "papermill": {
     "duration": 0.960557,
     "end_time": "2024-09-12T23:11:34.611114",
     "exception": false,
     "start_time": "2024-09-12T23:11:33.650557",
     "status": "completed"
    },
    "tags": []
   },
   "outputs": [
    {
     "name": "stdout",
     "output_type": "stream",
     "text": [
      "/kaggle/input/ad-click-prediction-dataset/ad_click_dataset.csv\n"
     ]
    }
   ],
   "source": [
    "# This Python 3 environment comes with many helpful analytics libraries installed\n",
    "# It is defined by the kaggle/python Docker image: https://github.com/kaggle/docker-python\n",
    "# For example, here's several helpful packages to load\n",
    "\n",
    "import numpy as np # linear algebra\n",
    "import pandas as pd # data processing, CSV file I/O (e.g. pd.read_csv)\n",
    "\n",
    "# Input data files are available in the read-only \"../input/\" directory\n",
    "# For example, running this (by clicking run or pressing Shift+Enter) will list all files under the input directory\n",
    "\n",
    "import os\n",
    "for dirname, _, filenames in os.walk('/kaggle/input'):\n",
    "    for filename in filenames:\n",
    "        print(os.path.join(dirname, filename))\n",
    "\n",
    "# You can write up to 20GB to the current directory (/kaggle/working/) that gets preserved as output when you create a version using \"Save & Run All\" \n",
    "# You can also write temporary files to /kaggle/temp/, but they won't be saved outside of the current session"
   ]
  },
  {
   "cell_type": "code",
   "execution_count": 2,
   "id": "9c923170",
   "metadata": {
    "execution": {
     "iopub.execute_input": "2024-09-12T23:11:34.633400Z",
     "iopub.status.busy": "2024-09-12T23:11:34.632833Z",
     "iopub.status.idle": "2024-09-12T23:11:34.684343Z",
     "shell.execute_reply": "2024-09-12T23:11:34.682992Z"
    },
    "papermill": {
     "duration": 0.066766,
     "end_time": "2024-09-12T23:11:34.687954",
     "exception": false,
     "start_time": "2024-09-12T23:11:34.621188",
     "status": "completed"
    },
    "tags": []
   },
   "outputs": [],
   "source": [
    "data=pd.read_csv(\"/kaggle/input/ad-click-prediction-dataset/ad_click_dataset.csv\")"
   ]
  },
  {
   "cell_type": "code",
   "execution_count": 3,
   "id": "6e2d4134",
   "metadata": {
    "execution": {
     "iopub.execute_input": "2024-09-12T23:11:34.710532Z",
     "iopub.status.busy": "2024-09-12T23:11:34.710023Z",
     "iopub.status.idle": "2024-09-12T23:11:34.716679Z",
     "shell.execute_reply": "2024-09-12T23:11:34.715485Z"
    },
    "papermill": {
     "duration": 0.020955,
     "end_time": "2024-09-12T23:11:34.719281",
     "exception": false,
     "start_time": "2024-09-12T23:11:34.698326",
     "status": "completed"
    },
    "tags": []
   },
   "outputs": [],
   "source": [
    "df=data.copy()"
   ]
  },
  {
   "cell_type": "code",
   "execution_count": 4,
   "id": "6d66eb9e",
   "metadata": {
    "execution": {
     "iopub.execute_input": "2024-09-12T23:11:34.741358Z",
     "iopub.status.busy": "2024-09-12T23:11:34.740889Z",
     "iopub.status.idle": "2024-09-12T23:11:34.767158Z",
     "shell.execute_reply": "2024-09-12T23:11:34.765668Z"
    },
    "papermill": {
     "duration": 0.040406,
     "end_time": "2024-09-12T23:11:34.769836",
     "exception": false,
     "start_time": "2024-09-12T23:11:34.729430",
     "status": "completed"
    },
    "tags": []
   },
   "outputs": [
    {
     "data": {
      "text/plain": [
       "id                     0\n",
       "full_name              0\n",
       "age                 4766\n",
       "gender              4693\n",
       "device_type         2000\n",
       "ad_position         2000\n",
       "browsing_history    4782\n",
       "time_of_day         2000\n",
       "click                  0\n",
       "dtype: int64"
      ]
     },
     "execution_count": 4,
     "metadata": {},
     "output_type": "execute_result"
    }
   ],
   "source": [
    "df.isnull().sum()"
   ]
  },
  {
   "cell_type": "code",
   "execution_count": 5,
   "id": "daa05d70",
   "metadata": {
    "execution": {
     "iopub.execute_input": "2024-09-12T23:11:34.792582Z",
     "iopub.status.busy": "2024-09-12T23:11:34.791223Z",
     "iopub.status.idle": "2024-09-12T23:11:34.808926Z",
     "shell.execute_reply": "2024-09-12T23:11:34.807398Z"
    },
    "papermill": {
     "duration": 0.031649,
     "end_time": "2024-09-12T23:11:34.811466",
     "exception": false,
     "start_time": "2024-09-12T23:11:34.779817",
     "status": "completed"
    },
    "tags": []
   },
   "outputs": [
    {
     "data": {
      "text/plain": [
       "gender\n",
       "Female        1834\n",
       "Male          1810\n",
       "Non-Binary    1663\n",
       "Name: count, dtype: int64"
      ]
     },
     "execution_count": 5,
     "metadata": {},
     "output_type": "execute_result"
    }
   ],
   "source": [
    "df[\"gender\"].value_counts()"
   ]
  },
  {
   "cell_type": "code",
   "execution_count": 6,
   "id": "206105ab",
   "metadata": {
    "execution": {
     "iopub.execute_input": "2024-09-12T23:11:34.834867Z",
     "iopub.status.busy": "2024-09-12T23:11:34.833708Z",
     "iopub.status.idle": "2024-09-12T23:11:34.839810Z",
     "shell.execute_reply": "2024-09-12T23:11:34.838525Z"
    },
    "papermill": {
     "duration": 0.020637,
     "end_time": "2024-09-12T23:11:34.842455",
     "exception": false,
     "start_time": "2024-09-12T23:11:34.821818",
     "status": "completed"
    },
    "tags": []
   },
   "outputs": [],
   "source": [
    "gender_mask={\"Non-Binary\" : 0, \"Female\" : 1,\"Male\" : 2}"
   ]
  },
  {
   "cell_type": "code",
   "execution_count": 7,
   "id": "3a6fd2ff",
   "metadata": {
    "execution": {
     "iopub.execute_input": "2024-09-12T23:11:34.865864Z",
     "iopub.status.busy": "2024-09-12T23:11:34.864893Z",
     "iopub.status.idle": "2024-09-12T23:11:34.878071Z",
     "shell.execute_reply": "2024-09-12T23:11:34.876690Z"
    },
    "papermill": {
     "duration": 0.027952,
     "end_time": "2024-09-12T23:11:34.881164",
     "exception": false,
     "start_time": "2024-09-12T23:11:34.853212",
     "status": "completed"
    },
    "tags": []
   },
   "outputs": [],
   "source": [
    "df[\"gender\"]=df[\"gender\"].map(gender_mask)"
   ]
  },
  {
   "cell_type": "code",
   "execution_count": 8,
   "id": "3e2e2385",
   "metadata": {
    "execution": {
     "iopub.execute_input": "2024-09-12T23:11:34.903998Z",
     "iopub.status.busy": "2024-09-12T23:11:34.903447Z",
     "iopub.status.idle": "2024-09-12T23:11:34.914191Z",
     "shell.execute_reply": "2024-09-12T23:11:34.912931Z"
    },
    "papermill": {
     "duration": 0.025262,
     "end_time": "2024-09-12T23:11:34.916978",
     "exception": false,
     "start_time": "2024-09-12T23:11:34.891716",
     "status": "completed"
    },
    "tags": []
   },
   "outputs": [
    {
     "name": "stderr",
     "output_type": "stream",
     "text": [
      "/tmp/ipykernel_17/412722619.py:4: FutureWarning: A value is trying to be set on a copy of a DataFrame or Series through chained assignment using an inplace method.\n",
      "The behavior will change in pandas 3.0. This inplace method will never work because the intermediate object on which we are setting values always behaves as a copy.\n",
      "\n",
      "For example, when doing 'df[col].method(value, inplace=True)', try using 'df.method({col: value}, inplace=True)' or df[col] = df[col].method(value) instead, to perform the operation inplace on the original object.\n",
      "\n",
      "\n",
      "  df['gender'].fillna(most_frequent_value, inplace=True)\n"
     ]
    }
   ],
   "source": [
    "\n",
    "most_frequent_value = df['gender'].mode()[0]\n",
    "\n",
    "\n",
    "df['gender'].fillna(most_frequent_value, inplace=True)\n"
   ]
  },
  {
   "cell_type": "code",
   "execution_count": 9,
   "id": "37400b99",
   "metadata": {
    "execution": {
     "iopub.execute_input": "2024-09-12T23:11:34.940953Z",
     "iopub.status.busy": "2024-09-12T23:11:34.940436Z",
     "iopub.status.idle": "2024-09-12T23:11:34.949649Z",
     "shell.execute_reply": "2024-09-12T23:11:34.948112Z"
    },
    "papermill": {
     "duration": 0.024986,
     "end_time": "2024-09-12T23:11:34.952783",
     "exception": false,
     "start_time": "2024-09-12T23:11:34.927797",
     "status": "completed"
    },
    "tags": []
   },
   "outputs": [
    {
     "name": "stderr",
     "output_type": "stream",
     "text": [
      "/tmp/ipykernel_17/2326727789.py:2: FutureWarning: A value is trying to be set on a copy of a DataFrame or Series through chained assignment using an inplace method.\n",
      "The behavior will change in pandas 3.0. This inplace method will never work because the intermediate object on which we are setting values always behaves as a copy.\n",
      "\n",
      "For example, when doing 'df[col].method(value, inplace=True)', try using 'df.method({col: value}, inplace=True)' or df[col] = df[col].method(value) instead, to perform the operation inplace on the original object.\n",
      "\n",
      "\n",
      "  df[\"age\"].fillna(dfage, inplace=True)\n"
     ]
    }
   ],
   "source": [
    "dfage=df[\"age\"].mean()\n",
    "df[\"age\"].fillna(dfage, inplace=True)"
   ]
  },
  {
   "cell_type": "code",
   "execution_count": 10,
   "id": "cdb493a0",
   "metadata": {
    "execution": {
     "iopub.execute_input": "2024-09-12T23:11:34.976990Z",
     "iopub.status.busy": "2024-09-12T23:11:34.976462Z",
     "iopub.status.idle": "2024-09-12T23:11:35.332598Z",
     "shell.execute_reply": "2024-09-12T23:11:35.331262Z"
    },
    "papermill": {
     "duration": 0.371937,
     "end_time": "2024-09-12T23:11:35.335621",
     "exception": false,
     "start_time": "2024-09-12T23:11:34.963684",
     "status": "completed"
    },
    "tags": []
   },
   "outputs": [
    {
     "data": {
      "image/png": "[encoded data removed]",
      "text/plain": [
       "<Figure size 640x480 with 1 Axes>"
      ]
     },
     "metadata": {},
     "output_type": "display_data"
    }
   ],
   "source": [
    "import pandas as pd\n",
    "import matplotlib.pyplot as plt\n",
    "\n",
    "\n",
    "\n",
    "df['age'].hist(bins=10)\n",
    "plt.xlabel('Değerler')\n",
    "plt.ylabel('Frekans')\n",
    "plt.title('Sütun Dağılımı')\n",
    "plt.show()\n"
   ]
  },
  {
   "cell_type": "code",
   "execution_count": 11,
   "id": "f92211e3",
   "metadata": {
    "execution": {
     "iopub.execute_input": "2024-09-12T23:11:35.360946Z",
     "iopub.status.busy": "2024-09-12T23:11:35.360470Z",
     "iopub.status.idle": "2024-09-12T23:11:35.376295Z",
     "shell.execute_reply": "2024-09-12T23:11:35.375146Z"
    },
    "papermill": {
     "duration": 0.031678,
     "end_time": "2024-09-12T23:11:35.378930",
     "exception": false,
     "start_time": "2024-09-12T23:11:35.347252",
     "status": "completed"
    },
    "tags": []
   },
   "outputs": [
    {
     "data": {
      "text/plain": [
       "id                     0\n",
       "full_name              0\n",
       "age                    0\n",
       "gender                 0\n",
       "device_type         2000\n",
       "ad_position         2000\n",
       "browsing_history    4782\n",
       "time_of_day         2000\n",
       "click                  0\n",
       "dtype: int64"
      ]
     },
     "execution_count": 11,
     "metadata": {},
     "output_type": "execute_result"
    }
   ],
   "source": [
    "df.isnull().sum()"
   ]
  },
  {
   "cell_type": "code",
   "execution_count": 12,
   "id": "6c2bb58d",
   "metadata": {
    "execution": {
     "iopub.execute_input": "2024-09-12T23:11:35.403895Z",
     "iopub.status.busy": "2024-09-12T23:11:35.403249Z",
     "iopub.status.idle": "2024-09-12T23:11:35.413829Z",
     "shell.execute_reply": "2024-09-12T23:11:35.412347Z"
    },
    "papermill": {
     "duration": 0.026759,
     "end_time": "2024-09-12T23:11:35.417044",
     "exception": false,
     "start_time": "2024-09-12T23:11:35.390285",
     "status": "completed"
    },
    "tags": []
   },
   "outputs": [
    {
     "data": {
      "text/plain": [
       "array(['Desktop', nan, 'Mobile', 'Tablet'], dtype=object)"
      ]
     },
     "execution_count": 12,
     "metadata": {},
     "output_type": "execute_result"
    }
   ],
   "source": [
    "df[\"device_type\"].unique()"
   ]
  },
  {
   "cell_type": "code",
   "execution_count": 13,
   "id": "78f99f99",
   "metadata": {
    "execution": {
     "iopub.execute_input": "2024-09-12T23:11:35.441983Z",
     "iopub.status.busy": "2024-09-12T23:11:35.441529Z",
     "iopub.status.idle": "2024-09-12T23:11:35.450378Z",
     "shell.execute_reply": "2024-09-12T23:11:35.449203Z"
    },
    "papermill": {
     "duration": 0.024317,
     "end_time": "2024-09-12T23:11:35.453007",
     "exception": false,
     "start_time": "2024-09-12T23:11:35.428690",
     "status": "completed"
    },
    "tags": []
   },
   "outputs": [],
   "source": [
    "device_mask={\"Desktop\":0,\"Mobile\":1,\"Tablet\":2}\n",
    "\n",
    "df[\"device_type\"]=df[\"device_type\"].map(device_mask)"
   ]
  },
  {
   "cell_type": "code",
   "execution_count": 14,
   "id": "cf827a8d",
   "metadata": {
    "execution": {
     "iopub.execute_input": "2024-09-12T23:11:35.478032Z",
     "iopub.status.busy": "2024-09-12T23:11:35.477590Z",
     "iopub.status.idle": "2024-09-12T23:11:35.486731Z",
     "shell.execute_reply": "2024-09-12T23:11:35.485249Z"
    },
    "papermill": {
     "duration": 0.024866,
     "end_time": "2024-09-12T23:11:35.489507",
     "exception": false,
     "start_time": "2024-09-12T23:11:35.464641",
     "status": "completed"
    },
    "tags": []
   },
   "outputs": [
    {
     "name": "stderr",
     "output_type": "stream",
     "text": [
      "/tmp/ipykernel_17/327261280.py:3: FutureWarning: A value is trying to be set on a copy of a DataFrame or Series through chained assignment using an inplace method.\n",
      "The behavior will change in pandas 3.0. This inplace method will never work because the intermediate object on which we are setting values always behaves as a copy.\n",
      "\n",
      "For example, when doing 'df[col].method(value, inplace=True)', try using 'df.method({col: value}, inplace=True)' or df[col] = df[col].method(value) instead, to perform the operation inplace on the original object.\n",
      "\n",
      "\n",
      "  df[\"device_type\"].fillna(gender_mode,inplace=True)\n"
     ]
    }
   ],
   "source": [
    "gender_mode=df[\"device_type\"].mode()[0]\n",
    "\n",
    "df[\"device_type\"].fillna(gender_mode,inplace=True)"
   ]
  },
  {
   "cell_type": "code",
   "execution_count": 15,
   "id": "b9830b8b",
   "metadata": {
    "execution": {
     "iopub.execute_input": "2024-09-12T23:11:35.514830Z",
     "iopub.status.busy": "2024-09-12T23:11:35.514317Z",
     "iopub.status.idle": "2024-09-12T23:11:35.758136Z",
     "shell.execute_reply": "2024-09-12T23:11:35.756827Z"
    },
    "papermill": {
     "duration": 0.259485,
     "end_time": "2024-09-12T23:11:35.760832",
     "exception": false,
     "start_time": "2024-09-12T23:11:35.501347",
     "status": "completed"
    },
    "tags": []
   },
   "outputs": [
    {
     "data": {
      "image/png": "[encoded data removed]",
      "text/plain": [
       "<Figure size 640x480 with 1 Axes>"
      ]
     },
     "metadata": {},
     "output_type": "display_data"
    }
   ],
   "source": [
    "df[\"device_type\"].hist(bins=20)\n",
    "plt.show()"
   ]
  },
  {
   "cell_type": "code",
   "execution_count": 16,
   "id": "479985cf",
   "metadata": {
    "execution": {
     "iopub.execute_input": "2024-09-12T23:11:35.786443Z",
     "iopub.status.busy": "2024-09-12T23:11:35.785212Z",
     "iopub.status.idle": "2024-09-12T23:11:35.794267Z",
     "shell.execute_reply": "2024-09-12T23:11:35.793087Z"
    },
    "papermill": {
     "duration": 0.024482,
     "end_time": "2024-09-12T23:11:35.796762",
     "exception": false,
     "start_time": "2024-09-12T23:11:35.772280",
     "status": "completed"
    },
    "tags": []
   },
   "outputs": [
    {
     "data": {
      "text/plain": [
       "array(['Top', 'Side', nan, 'Bottom'], dtype=object)"
      ]
     },
     "execution_count": 16,
     "metadata": {},
     "output_type": "execute_result"
    }
   ],
   "source": [
    "df[\"ad_position\"].unique()"
   ]
  },
  {
   "cell_type": "code",
   "execution_count": 17,
   "id": "a600739f",
   "metadata": {
    "execution": {
     "iopub.execute_input": "2024-09-12T23:11:35.822593Z",
     "iopub.status.busy": "2024-09-12T23:11:35.822153Z",
     "iopub.status.idle": "2024-09-12T23:11:35.830644Z",
     "shell.execute_reply": "2024-09-12T23:11:35.829563Z"
    },
    "papermill": {
     "duration": 0.024777,
     "end_time": "2024-09-12T23:11:35.833233",
     "exception": false,
     "start_time": "2024-09-12T23:11:35.808456",
     "status": "completed"
    },
    "tags": []
   },
   "outputs": [],
   "source": [
    "ad_mask={'Top':0, 'Side':1,'Bottom':2}\n",
    "\n",
    "df[\"ad_position\"]=df[\"ad_position\"].map(ad_mask)"
   ]
  },
  {
   "cell_type": "code",
   "execution_count": 18,
   "id": "840a3d53",
   "metadata": {
    "execution": {
     "iopub.execute_input": "2024-09-12T23:11:35.858414Z",
     "iopub.status.busy": "2024-09-12T23:11:35.857943Z",
     "iopub.status.idle": "2024-09-12T23:11:35.865824Z",
     "shell.execute_reply": "2024-09-12T23:11:35.864647Z"
    },
    "papermill": {
     "duration": 0.023363,
     "end_time": "2024-09-12T23:11:35.868493",
     "exception": false,
     "start_time": "2024-09-12T23:11:35.845130",
     "status": "completed"
    },
    "tags": []
   },
   "outputs": [
    {
     "name": "stderr",
     "output_type": "stream",
     "text": [
      "/tmp/ipykernel_17/2022358809.py:3: FutureWarning: A value is trying to be set on a copy of a DataFrame or Series through chained assignment using an inplace method.\n",
      "The behavior will change in pandas 3.0. This inplace method will never work because the intermediate object on which we are setting values always behaves as a copy.\n",
      "\n",
      "For example, when doing 'df[col].method(value, inplace=True)', try using 'df.method({col: value}, inplace=True)' or df[col] = df[col].method(value) instead, to perform the operation inplace on the original object.\n",
      "\n",
      "\n",
      "  df[\"ad_position\"].fillna(ad_value,inplace=True)\n"
     ]
    }
   ],
   "source": [
    "ad_value=df[\"ad_position\"].mode()[0]\n",
    "\n",
    "df[\"ad_position\"].fillna(ad_value,inplace=True)"
   ]
  },
  {
   "cell_type": "code",
   "execution_count": 19,
   "id": "f913564a",
   "metadata": {
    "execution": {
     "iopub.execute_input": "2024-09-12T23:11:35.894190Z",
     "iopub.status.busy": "2024-09-12T23:11:35.893139Z",
     "iopub.status.idle": "2024-09-12T23:11:35.902870Z",
     "shell.execute_reply": "2024-09-12T23:11:35.901738Z"
    },
    "papermill": {
     "duration": 0.025225,
     "end_time": "2024-09-12T23:11:35.905473",
     "exception": false,
     "start_time": "2024-09-12T23:11:35.880248",
     "status": "completed"
    },
    "tags": []
   },
   "outputs": [
    {
     "name": "stderr",
     "output_type": "stream",
     "text": [
      "/tmp/ipykernel_17/2719982855.py:3: FutureWarning: A value is trying to be set on a copy of a DataFrame or Series through chained assignment using an inplace method.\n",
      "The behavior will change in pandas 3.0. This inplace method will never work because the intermediate object on which we are setting values always behaves as a copy.\n",
      "\n",
      "For example, when doing 'df[col].method(value, inplace=True)', try using 'df.method({col: value}, inplace=True)' or df[col] = df[col].method(value) instead, to perform the operation inplace on the original object.\n",
      "\n",
      "\n",
      "  df[\"browsing_history\"].fillna(brow_value,inplace=True)\n"
     ]
    }
   ],
   "source": [
    "brow_value=df[\"browsing_history\"].mode()[0]\n",
    "\n",
    "df[\"browsing_history\"].fillna(brow_value,inplace=True)"
   ]
  },
  {
   "cell_type": "code",
   "execution_count": 20,
   "id": "67de09e9",
   "metadata": {
    "execution": {
     "iopub.execute_input": "2024-09-12T23:11:35.931449Z",
     "iopub.status.busy": "2024-09-12T23:11:35.930369Z",
     "iopub.status.idle": "2024-09-12T23:11:35.941634Z",
     "shell.execute_reply": "2024-09-12T23:11:35.940384Z"
    },
    "papermill": {
     "duration": 0.026888,
     "end_time": "2024-09-12T23:11:35.944203",
     "exception": false,
     "start_time": "2024-09-12T23:11:35.917315",
     "status": "completed"
    },
    "tags": []
   },
   "outputs": [],
   "source": [
    "browsing_mask={\"Entertainment\":0,\"Social Media\":1,\"Education\":2,\"Shopping\":3,\"News\":4}\n",
    "df[\"browsing_history\"]=df[\"browsing_history\"].map(browsing_mask)"
   ]
  },
  {
   "cell_type": "code",
   "execution_count": 21,
   "id": "9f5254b8",
   "metadata": {
    "execution": {
     "iopub.execute_input": "2024-09-12T23:11:35.969707Z",
     "iopub.status.busy": "2024-09-12T23:11:35.969231Z",
     "iopub.status.idle": "2024-09-12T23:11:35.980143Z",
     "shell.execute_reply": "2024-09-12T23:11:35.978998Z"
    },
    "papermill": {
     "duration": 0.026648,
     "end_time": "2024-09-12T23:11:35.982771",
     "exception": false,
     "start_time": "2024-09-12T23:11:35.956123",
     "status": "completed"
    },
    "tags": []
   },
   "outputs": [
    {
     "data": {
      "text/plain": [
       "time_of_day\n",
       "Morning      2126\n",
       "Afternoon    2016\n",
       "Evening      1958\n",
       "Night        1900\n",
       "Name: count, dtype: int64"
      ]
     },
     "execution_count": 21,
     "metadata": {},
     "output_type": "execute_result"
    }
   ],
   "source": [
    "df[\"time_of_day\"].value_counts()"
   ]
  },
  {
   "cell_type": "code",
   "execution_count": 22,
   "id": "474ebc15",
   "metadata": {
    "execution": {
     "iopub.execute_input": "2024-09-12T23:11:36.008698Z",
     "iopub.status.busy": "2024-09-12T23:11:36.007723Z",
     "iopub.status.idle": "2024-09-12T23:11:36.019259Z",
     "shell.execute_reply": "2024-09-12T23:11:36.018107Z"
    },
    "papermill": {
     "duration": 0.027489,
     "end_time": "2024-09-12T23:11:36.021906",
     "exception": false,
     "start_time": "2024-09-12T23:11:35.994417",
     "status": "completed"
    },
    "tags": []
   },
   "outputs": [
    {
     "name": "stdout",
     "output_type": "stream",
     "text": [
      "time_of_day\n",
      "0.0    4142\n",
      "1.0    3858\n",
      "Name: count, dtype: int64\n"
     ]
    }
   ],
   "source": [
    "import pandas as pd\n",
    "\n",
    "\n",
    "time_map = {\n",
    "    'Morning': 0,\n",
    "    'Afternoon': 0,\n",
    "    'Evening': 1,\n",
    "    'Night': 1\n",
    "}\n",
    "\n",
    "\n",
    "df['time_of_day'] = df['time_of_day'].map(time_map)\n",
    "\n",
    "\n",
    "print(df['time_of_day'].value_counts())\n"
   ]
  },
  {
   "cell_type": "code",
   "execution_count": 23,
   "id": "3699fee6",
   "metadata": {
    "execution": {
     "iopub.execute_input": "2024-09-12T23:11:36.047627Z",
     "iopub.status.busy": "2024-09-12T23:11:36.047185Z",
     "iopub.status.idle": "2024-09-12T23:11:36.055889Z",
     "shell.execute_reply": "2024-09-12T23:11:36.054628Z"
    },
    "papermill": {
     "duration": 0.024582,
     "end_time": "2024-09-12T23:11:36.058416",
     "exception": false,
     "start_time": "2024-09-12T23:11:36.033834",
     "status": "completed"
    },
    "tags": []
   },
   "outputs": [
    {
     "name": "stderr",
     "output_type": "stream",
     "text": [
      "/tmp/ipykernel_17/4239641326.py:3: FutureWarning: A value is trying to be set on a copy of a DataFrame or Series through chained assignment using an inplace method.\n",
      "The behavior will change in pandas 3.0. This inplace method will never work because the intermediate object on which we are setting values always behaves as a copy.\n",
      "\n",
      "For example, when doing 'df[col].method(value, inplace=True)', try using 'df.method({col: value}, inplace=True)' or df[col] = df[col].method(value) instead, to perform the operation inplace on the original object.\n",
      "\n",
      "\n",
      "  df[\"time_of_day\"].fillna(time_value,inplace=True)\n"
     ]
    }
   ],
   "source": [
    "time_value=df[\"time_of_day\"].mode()[0]\n",
    "\n",
    "df[\"time_of_day\"].fillna(time_value,inplace=True)"
   ]
  },
  {
   "cell_type": "code",
   "execution_count": 24,
   "id": "9b04b0ec",
   "metadata": {
    "execution": {
     "iopub.execute_input": "2024-09-12T23:11:36.084480Z",
     "iopub.status.busy": "2024-09-12T23:11:36.084013Z",
     "iopub.status.idle": "2024-09-12T23:11:37.707941Z",
     "shell.execute_reply": "2024-09-12T23:11:37.706624Z"
    },
    "papermill": {
     "duration": 1.639819,
     "end_time": "2024-09-12T23:11:37.710423",
     "exception": false,
     "start_time": "2024-09-12T23:11:36.070604",
     "status": "completed"
    },
    "tags": []
   },
   "outputs": [
    {
     "data": {
      "text/html": [
       "<div>\n",
       "<style scoped>\n",
       "    .dataframe tbody tr th:only-of-type {\n",
       "        vertical-align: middle;\n",
       "    }\n",
       "\n",
       "    .dataframe tbody tr th {\n",
       "        vertical-align: top;\n",
       "    }\n",
       "\n",
       "    .dataframe thead th {\n",
       "        text-align: right;\n",
       "    }\n",
       "</style>\n",
       "<table border=\"1\" class=\"dataframe\">\n",
       "  <thead>\n",
       "    <tr style=\"text-align: right;\">\n",
       "      <th></th>\n",
       "      <th>id</th>\n",
       "      <th>full_name</th>\n",
       "      <th>age</th>\n",
       "      <th>gender</th>\n",
       "      <th>device_type</th>\n",
       "      <th>ad_position</th>\n",
       "      <th>browsing_history</th>\n",
       "      <th>time_of_day</th>\n",
       "      <th>click</th>\n",
       "    </tr>\n",
       "  </thead>\n",
       "  <tbody>\n",
       "    <tr>\n",
       "      <th>0</th>\n",
       "      <td>670</td>\n",
       "      <td>User670</td>\n",
       "      <td>-1.916403</td>\n",
       "      <td>1.0</td>\n",
       "      <td>0.0</td>\n",
       "      <td>0.0</td>\n",
       "      <td>3</td>\n",
       "      <td>0.0</td>\n",
       "      <td>1</td>\n",
       "    </tr>\n",
       "    <tr>\n",
       "      <th>1</th>\n",
       "      <td>3044</td>\n",
       "      <td>User3044</td>\n",
       "      <td>0.000000</td>\n",
       "      <td>2.0</td>\n",
       "      <td>0.0</td>\n",
       "      <td>0.0</td>\n",
       "      <td>0</td>\n",
       "      <td>0.0</td>\n",
       "      <td>1</td>\n",
       "    </tr>\n",
       "    <tr>\n",
       "      <th>2</th>\n",
       "      <td>5912</td>\n",
       "      <td>User5912</td>\n",
       "      <td>0.084527</td>\n",
       "      <td>0.0</td>\n",
       "      <td>0.0</td>\n",
       "      <td>1.0</td>\n",
       "      <td>2</td>\n",
       "      <td>1.0</td>\n",
       "      <td>1</td>\n",
       "    </tr>\n",
       "    <tr>\n",
       "      <th>3</th>\n",
       "      <td>5418</td>\n",
       "      <td>User5418</td>\n",
       "      <td>-0.652657</td>\n",
       "      <td>2.0</td>\n",
       "      <td>0.0</td>\n",
       "      <td>2.0</td>\n",
       "      <td>0</td>\n",
       "      <td>1.0</td>\n",
       "      <td>1</td>\n",
       "    </tr>\n",
       "    <tr>\n",
       "      <th>4</th>\n",
       "      <td>9452</td>\n",
       "      <td>User9452</td>\n",
       "      <td>-0.126097</td>\n",
       "      <td>0.0</td>\n",
       "      <td>0.0</td>\n",
       "      <td>2.0</td>\n",
       "      <td>1</td>\n",
       "      <td>0.0</td>\n",
       "      <td>0</td>\n",
       "    </tr>\n",
       "    <tr>\n",
       "      <th>...</th>\n",
       "      <td>...</td>\n",
       "      <td>...</td>\n",
       "      <td>...</td>\n",
       "      <td>...</td>\n",
       "      <td>...</td>\n",
       "      <td>...</td>\n",
       "      <td>...</td>\n",
       "      <td>...</td>\n",
       "      <td>...</td>\n",
       "    </tr>\n",
       "    <tr>\n",
       "      <th>9995</th>\n",
       "      <td>8510</td>\n",
       "      <td>User8510</td>\n",
       "      <td>0.000000</td>\n",
       "      <td>1.0</td>\n",
       "      <td>1.0</td>\n",
       "      <td>0.0</td>\n",
       "      <td>2</td>\n",
       "      <td>0.0</td>\n",
       "      <td>0</td>\n",
       "    </tr>\n",
       "    <tr>\n",
       "      <th>9996</th>\n",
       "      <td>7843</td>\n",
       "      <td>User7843</td>\n",
       "      <td>0.000000</td>\n",
       "      <td>1.0</td>\n",
       "      <td>0.0</td>\n",
       "      <td>2.0</td>\n",
       "      <td>0</td>\n",
       "      <td>0.0</td>\n",
       "      <td>0</td>\n",
       "    </tr>\n",
       "    <tr>\n",
       "      <th>9997</th>\n",
       "      <td>3914</td>\n",
       "      <td>User3914</td>\n",
       "      <td>0.000000</td>\n",
       "      <td>2.0</td>\n",
       "      <td>1.0</td>\n",
       "      <td>1.0</td>\n",
       "      <td>0</td>\n",
       "      <td>0.0</td>\n",
       "      <td>0</td>\n",
       "    </tr>\n",
       "    <tr>\n",
       "      <th>9998</th>\n",
       "      <td>7924</td>\n",
       "      <td>User7924</td>\n",
       "      <td>0.000000</td>\n",
       "      <td>1.0</td>\n",
       "      <td>0.0</td>\n",
       "      <td>2.0</td>\n",
       "      <td>3</td>\n",
       "      <td>0.0</td>\n",
       "      <td>1</td>\n",
       "    </tr>\n",
       "    <tr>\n",
       "      <th>9999</th>\n",
       "      <td>3056</td>\n",
       "      <td>User3056</td>\n",
       "      <td>0.400464</td>\n",
       "      <td>2.0</td>\n",
       "      <td>2.0</td>\n",
       "      <td>0.0</td>\n",
       "      <td>1</td>\n",
       "      <td>0.0</td>\n",
       "      <td>0</td>\n",
       "    </tr>\n",
       "  </tbody>\n",
       "</table>\n",
       "<p>10000 rows × 9 columns</p>\n",
       "</div>"
      ],
      "text/plain": [
       "        id full_name       age  gender  device_type  ad_position  \\\n",
       "0      670   User670 -1.916403     1.0          0.0          0.0   \n",
       "1     3044  User3044  0.000000     2.0          0.0          0.0   \n",
       "2     5912  User5912  0.084527     0.0          0.0          1.0   \n",
       "3     5418  User5418 -0.652657     2.0          0.0          2.0   \n",
       "4     9452  User9452 -0.126097     0.0          0.0          2.0   \n",
       "...    ...       ...       ...     ...          ...          ...   \n",
       "9995  8510  User8510  0.000000     1.0          1.0          0.0   \n",
       "9996  7843  User7843  0.000000     1.0          0.0          2.0   \n",
       "9997  3914  User3914  0.000000     2.0          1.0          1.0   \n",
       "9998  7924  User7924  0.000000     1.0          0.0          2.0   \n",
       "9999  3056  User3056  0.400464     2.0          2.0          0.0   \n",
       "\n",
       "      browsing_history  time_of_day  click  \n",
       "0                    3          0.0      1  \n",
       "1                    0          0.0      1  \n",
       "2                    2          1.0      1  \n",
       "3                    0          1.0      1  \n",
       "4                    1          0.0      0  \n",
       "...                ...          ...    ...  \n",
       "9995                 2          0.0      0  \n",
       "9996                 0          0.0      0  \n",
       "9997                 0          0.0      0  \n",
       "9998                 3          0.0      1  \n",
       "9999                 1          0.0      0  \n",
       "\n",
       "[10000 rows x 9 columns]"
      ]
     },
     "execution_count": 24,
     "metadata": {},
     "output_type": "execute_result"
    }
   ],
   "source": [
    "\n",
    "from sklearn.preprocessing import StandardScaler\n",
    "\n",
    "\n",
    "\n",
    "scaler = StandardScaler()\n",
    "df['age'] = scaler.fit_transform(df[['age']])\n",
    "\n",
    "\n",
    "df"
   ]
  },
  {
   "cell_type": "code",
   "execution_count": 25,
   "id": "aadeb6a8",
   "metadata": {
    "execution": {
     "iopub.execute_input": "2024-09-12T23:11:37.739150Z",
     "iopub.status.busy": "2024-09-12T23:11:37.738183Z",
     "iopub.status.idle": "2024-09-12T23:11:37.761452Z",
     "shell.execute_reply": "2024-09-12T23:11:37.760147Z"
    },
    "papermill": {
     "duration": 0.040072,
     "end_time": "2024-09-12T23:11:37.764077",
     "exception": false,
     "start_time": "2024-09-12T23:11:37.724005",
     "status": "completed"
    },
    "tags": []
   },
   "outputs": [
    {
     "name": "stderr",
     "output_type": "stream",
     "text": [
      "/tmp/ipykernel_17/2909103974.py:4: FutureWarning: A value is trying to be set on a copy of a DataFrame or Series through chained assignment using an inplace method.\n",
      "The behavior will change in pandas 3.0. This inplace method will never work because the intermediate object on which we are setting values always behaves as a copy.\n",
      "\n",
      "For example, when doing 'df[col].method(value, inplace=True)', try using 'df.method({col: value}, inplace=True)' or df[col] = df[col].method(value) instead, to perform the operation inplace on the original object.\n",
      "\n",
      "\n",
      "  df['age'].replace(0, age_mode, inplace=True)\n"
     ]
    },
    {
     "data": {
      "text/html": [
       "<div>\n",
       "<style scoped>\n",
       "    .dataframe tbody tr th:only-of-type {\n",
       "        vertical-align: middle;\n",
       "    }\n",
       "\n",
       "    .dataframe tbody tr th {\n",
       "        vertical-align: top;\n",
       "    }\n",
       "\n",
       "    .dataframe thead th {\n",
       "        text-align: right;\n",
       "    }\n",
       "</style>\n",
       "<table border=\"1\" class=\"dataframe\">\n",
       "  <thead>\n",
       "    <tr style=\"text-align: right;\">\n",
       "      <th></th>\n",
       "      <th>id</th>\n",
       "      <th>full_name</th>\n",
       "      <th>age</th>\n",
       "      <th>gender</th>\n",
       "      <th>device_type</th>\n",
       "      <th>ad_position</th>\n",
       "      <th>browsing_history</th>\n",
       "      <th>time_of_day</th>\n",
       "      <th>click</th>\n",
       "    </tr>\n",
       "  </thead>\n",
       "  <tbody>\n",
       "    <tr>\n",
       "      <th>0</th>\n",
       "      <td>670</td>\n",
       "      <td>User670</td>\n",
       "      <td>-1.916403e+00</td>\n",
       "      <td>1.0</td>\n",
       "      <td>0.0</td>\n",
       "      <td>0.0</td>\n",
       "      <td>3</td>\n",
       "      <td>0.0</td>\n",
       "      <td>1</td>\n",
       "    </tr>\n",
       "    <tr>\n",
       "      <th>1</th>\n",
       "      <td>3044</td>\n",
       "      <td>User3044</td>\n",
       "      <td>1.652012e-16</td>\n",
       "      <td>2.0</td>\n",
       "      <td>0.0</td>\n",
       "      <td>0.0</td>\n",
       "      <td>0</td>\n",
       "      <td>0.0</td>\n",
       "      <td>1</td>\n",
       "    </tr>\n",
       "    <tr>\n",
       "      <th>2</th>\n",
       "      <td>5912</td>\n",
       "      <td>User5912</td>\n",
       "      <td>8.452736e-02</td>\n",
       "      <td>0.0</td>\n",
       "      <td>0.0</td>\n",
       "      <td>1.0</td>\n",
       "      <td>2</td>\n",
       "      <td>1.0</td>\n",
       "      <td>1</td>\n",
       "    </tr>\n",
       "    <tr>\n",
       "      <th>3</th>\n",
       "      <td>5418</td>\n",
       "      <td>User5418</td>\n",
       "      <td>-6.526574e-01</td>\n",
       "      <td>2.0</td>\n",
       "      <td>0.0</td>\n",
       "      <td>2.0</td>\n",
       "      <td>0</td>\n",
       "      <td>1.0</td>\n",
       "      <td>1</td>\n",
       "    </tr>\n",
       "    <tr>\n",
       "      <th>4</th>\n",
       "      <td>9452</td>\n",
       "      <td>User9452</td>\n",
       "      <td>-1.260969e-01</td>\n",
       "      <td>0.0</td>\n",
       "      <td>0.0</td>\n",
       "      <td>2.0</td>\n",
       "      <td>1</td>\n",
       "      <td>0.0</td>\n",
       "      <td>0</td>\n",
       "    </tr>\n",
       "  </tbody>\n",
       "</table>\n",
       "</div>"
      ],
      "text/plain": [
       "     id full_name           age  gender  device_type  ad_position  \\\n",
       "0   670   User670 -1.916403e+00     1.0          0.0          0.0   \n",
       "1  3044  User3044  1.652012e-16     2.0          0.0          0.0   \n",
       "2  5912  User5912  8.452736e-02     0.0          0.0          1.0   \n",
       "3  5418  User5418 -6.526574e-01     2.0          0.0          2.0   \n",
       "4  9452  User9452 -1.260969e-01     0.0          0.0          2.0   \n",
       "\n",
       "   browsing_history  time_of_day  click  \n",
       "0                 3          0.0      1  \n",
       "1                 0          0.0      1  \n",
       "2                 2          1.0      1  \n",
       "3                 0          1.0      1  \n",
       "4                 1          0.0      0  "
      ]
     },
     "execution_count": 25,
     "metadata": {},
     "output_type": "execute_result"
    }
   ],
   "source": [
    "\n",
    "age_mode = df['age'].mean()\n",
    "\n",
    "\n",
    "df['age'].replace(0, age_mode, inplace=True)\n",
    "\n",
    "\n",
    "df.head()"
   ]
  },
  {
   "cell_type": "code",
   "execution_count": 26,
   "id": "b40730d2",
   "metadata": {
    "execution": {
     "iopub.execute_input": "2024-09-12T23:11:37.792995Z",
     "iopub.status.busy": "2024-09-12T23:11:37.792496Z",
     "iopub.status.idle": "2024-09-12T23:11:46.348943Z",
     "shell.execute_reply": "2024-09-12T23:11:46.347511Z"
    },
    "papermill": {
     "duration": 8.573842,
     "end_time": "2024-09-12T23:11:46.351796",
     "exception": false,
     "start_time": "2024-09-12T23:11:37.777954",
     "status": "completed"
    },
    "tags": []
   },
   "outputs": [
    {
     "name": "stdout",
     "output_type": "stream",
     "text": [
      "Logistic Regression Accuracy: 0.6465\n",
      "Logistic Regression Classification Report:\n",
      "              precision    recall  f1-score   support\n",
      "\n",
      "           0       0.00      0.00      0.00       705\n",
      "           1       0.65      1.00      0.79      1295\n",
      "\n",
      "    accuracy                           0.65      2000\n",
      "   macro avg       0.32      0.50      0.39      2000\n",
      "weighted avg       0.42      0.65      0.51      2000\n",
      "\n",
      "Logistic Regression Confusion Matrix:\n",
      "[[   0  705]\n",
      " [   2 1293]]\n",
      "SVC Accuracy: 0.6485\n",
      "SVC Classification Report:\n",
      "              precision    recall  f1-score   support\n",
      "\n",
      "           0       0.56      0.01      0.03       705\n",
      "           1       0.65      0.99      0.79      1295\n",
      "\n",
      "    accuracy                           0.65      2000\n",
      "   macro avg       0.60      0.50      0.41      2000\n",
      "weighted avg       0.62      0.65      0.52      2000\n",
      "\n",
      "SVC Confusion Matrix:\n",
      "[[  10  695]\n",
      " [   8 1287]]\n",
      "Decision Tree Accuracy: 0.729\n",
      "Decision Tree Classification Report:\n",
      "              precision    recall  f1-score   support\n",
      "\n",
      "           0       0.68      0.43      0.53       705\n",
      "           1       0.74      0.89      0.81      1295\n",
      "\n",
      "    accuracy                           0.73      2000\n",
      "   macro avg       0.71      0.66      0.67      2000\n",
      "weighted avg       0.72      0.73      0.71      2000\n",
      "\n",
      "Decision Tree Confusion Matrix:\n",
      "[[ 302  403]\n",
      " [ 139 1156]]\n",
      "Random Forest Accuracy: 0.721\n",
      "Random Forest Classification Report:\n",
      "              precision    recall  f1-score   support\n",
      "\n",
      "           0       0.69      0.39      0.49       705\n",
      "           1       0.73      0.90      0.81      1295\n",
      "\n",
      "    accuracy                           0.72      2000\n",
      "   macro avg       0.71      0.64      0.65      2000\n",
      "weighted avg       0.71      0.72      0.70      2000\n",
      "\n",
      "Random Forest Confusion Matrix:\n",
      "[[ 272  433]\n",
      " [ 125 1170]]\n",
      "K-Nearest Neighbors Accuracy: 0.658\n",
      "K-Nearest Neighbors Classification Report:\n",
      "              precision    recall  f1-score   support\n",
      "\n",
      "           0       0.52      0.32      0.40       705\n",
      "           1       0.70      0.84      0.76      1295\n",
      "\n",
      "    accuracy                           0.66      2000\n",
      "   macro avg       0.61      0.58      0.58      2000\n",
      "weighted avg       0.63      0.66      0.63      2000\n",
      "\n",
      "K-Nearest Neighbors Confusion Matrix:\n",
      "[[ 228  477]\n",
      " [ 207 1088]]\n",
      "Naive Bayes Accuracy: 0.646\n",
      "Naive Bayes Classification Report:\n",
      "              precision    recall  f1-score   support\n",
      "\n",
      "           0       0.47      0.04      0.07       705\n",
      "           1       0.65      0.98      0.78      1295\n",
      "\n",
      "    accuracy                           0.65      2000\n",
      "   macro avg       0.56      0.51      0.43      2000\n",
      "weighted avg       0.59      0.65      0.53      2000\n",
      "\n",
      "Naive Bayes Confusion Matrix:\n",
      "[[  28  677]\n",
      " [  31 1264]]\n",
      "Gradient Boosting Accuracy: 0.668\n",
      "Gradient Boosting Classification Report:\n",
      "              precision    recall  f1-score   support\n",
      "\n",
      "           0       0.68      0.11      0.19       705\n",
      "           1       0.67      0.97      0.79      1295\n",
      "\n",
      "    accuracy                           0.67      2000\n",
      "   macro avg       0.67      0.54      0.49      2000\n",
      "weighted avg       0.67      0.67      0.58      2000\n",
      "\n",
      "Gradient Boosting Confusion Matrix:\n",
      "[[  77  628]\n",
      " [  36 1259]]\n",
      "AdaBoost Accuracy: 0.6585\n",
      "AdaBoost Classification Report:\n",
      "              precision    recall  f1-score   support\n",
      "\n",
      "           0       0.64      0.07      0.13       705\n",
      "           1       0.66      0.98      0.79      1295\n",
      "\n",
      "    accuracy                           0.66      2000\n",
      "   macro avg       0.65      0.52      0.46      2000\n",
      "weighted avg       0.65      0.66      0.55      2000\n",
      "\n",
      "AdaBoost Confusion Matrix:\n",
      "[[  49  656]\n",
      " [  27 1268]]\n",
      "Extra Trees Accuracy: 0.718\n",
      "Extra Trees Classification Report:\n",
      "              precision    recall  f1-score   support\n",
      "\n",
      "           0       0.66      0.42      0.51       705\n",
      "           1       0.74      0.88      0.80      1295\n",
      "\n",
      "    accuracy                           0.72      2000\n",
      "   macro avg       0.70      0.65      0.66      2000\n",
      "weighted avg       0.71      0.72      0.70      2000\n",
      "\n",
      "Extra Trees Confusion Matrix:\n",
      "[[ 295  410]\n",
      " [ 154 1141]]\n",
      "XGBoost Accuracy: 0.734\n",
      "XGBoost Classification Report:\n",
      "              precision    recall  f1-score   support\n",
      "\n",
      "           0       0.77      0.35      0.48       705\n",
      "           1       0.73      0.94      0.82      1295\n",
      "\n",
      "    accuracy                           0.73      2000\n",
      "   macro avg       0.75      0.65      0.65      2000\n",
      "weighted avg       0.74      0.73      0.70      2000\n",
      "\n",
      "XGBoost Confusion Matrix:\n",
      "[[ 246  459]\n",
      " [  73 1222]]\n"
     ]
    },
    {
     "data": {
      "text/plain": [
       "{'Logistic Regression': 0.6465,\n",
       " 'SVC': 0.6485,\n",
       " 'Decision Tree': 0.729,\n",
       " 'Random Forest': 0.721,\n",
       " 'K-Nearest Neighbors': 0.658,\n",
       " 'Naive Bayes': 0.646,\n",
       " 'Gradient Boosting': 0.668,\n",
       " 'AdaBoost': 0.6585,\n",
       " 'Extra Trees': 0.718,\n",
       " 'XGBoost': 0.734}"
      ]
     },
     "execution_count": 26,
     "metadata": {},
     "output_type": "execute_result"
    }
   ],
   "source": [
    "import numpy as np\n",
    "import pandas as pd\n",
    "from sklearn.metrics import classification_report, confusion_matrix, accuracy_score\n",
    "from sklearn.model_selection import train_test_split\n",
    "from sklearn.linear_model import LogisticRegression\n",
    "from sklearn.tree import DecisionTreeClassifier\n",
    "from sklearn.ensemble import RandomForestClassifier, GradientBoostingClassifier, AdaBoostClassifier, ExtraTreesClassifier\n",
    "from sklearn.svm import SVC\n",
    "from sklearn.neighbors import KNeighborsClassifier\n",
    "from sklearn.naive_bayes import GaussianNB\n",
    "import xgboost as xgb\n",
    "\n",
    "X = df.drop(columns=[\"id\", \"full_name\", \"click\"])\n",
    "y = df[\"click\"]\n",
    "\n",
    "def evaluate_classification_models(X, y):\n",
    "\n",
    "    X_train, X_test, y_train, y_test = train_test_split(X, y, test_size=0.2, random_state=42)\n",
    "    \n",
    "    \n",
    "    models_accuracy = {}\n",
    "\n",
    "  \n",
    "    models = {\n",
    "        'Logistic Regression': LogisticRegression(),\n",
    "        'SVC': SVC(),\n",
    "        'Decision Tree': DecisionTreeClassifier(),\n",
    "        'Random Forest': RandomForestClassifier(),\n",
    "        'K-Nearest Neighbors': KNeighborsClassifier(),\n",
    "        'Naive Bayes': GaussianNB(),\n",
    "        'Gradient Boosting': GradientBoostingClassifier(),\n",
    "        'AdaBoost': AdaBoostClassifier(),\n",
    "        'Extra Trees': ExtraTreesClassifier(),\n",
    "        'XGBoost': xgb.XGBClassifier()\n",
    "    }\n",
    "    \n",
    "  \n",
    "    for name, model in models.items():\n",
    "        model.fit(X_train, y_train)\n",
    "        y_pred = model.predict(X_test)\n",
    "        accuracy = accuracy_score(y_test, y_pred)\n",
    "        models_accuracy[name] = accuracy\n",
    "        print(f\"{name} Accuracy: {accuracy}\")\n",
    "        print(f\"{name} Classification Report:\\n{classification_report(y_test, y_pred)}\")\n",
    "        print(f\"{name} Confusion Matrix:\\n{confusion_matrix(y_test, y_pred)}\")\n",
    "    \n",
    "    return models_accuracy\n",
    "\n",
    "\n",
    "evaluate_classification_models(X, y)\n"
   ]
  },
  {
   "cell_type": "code",
   "execution_count": 27,
   "id": "a29f527c",
   "metadata": {
    "execution": {
     "iopub.execute_input": "2024-09-12T23:11:46.384242Z",
     "iopub.status.busy": "2024-09-12T23:11:46.383652Z",
     "iopub.status.idle": "2024-09-12T23:11:46.975175Z",
     "shell.execute_reply": "2024-09-12T23:11:46.972539Z"
    },
    "papermill": {
     "duration": 0.611495,
     "end_time": "2024-09-12T23:11:46.977924",
     "exception": true,
     "start_time": "2024-09-12T23:11:46.366429",
     "status": "failed"
    },
    "tags": []
   },
   "outputs": [
    {
     "ename": "NameError",
     "evalue": "name 'X_train' is not defined",
     "output_type": "error",
     "traceback": [
      "\u001b[0;31m---------------------------------------------------------------------------\u001b[0m",
      "\u001b[0;31mNameError\u001b[0m                                 Traceback (most recent call last)",
      "Cell \u001b[0;32mIn[27], line 5\u001b[0m\n\u001b[1;32m      1\u001b[0m \u001b[38;5;28;01mfrom\u001b[39;00m \u001b[38;5;21;01msklearn\u001b[39;00m\u001b[38;5;21;01m.\u001b[39;00m\u001b[38;5;21;01mtree\u001b[39;00m \u001b[38;5;28;01mimport\u001b[39;00m DecisionTreeClassifier\n\u001b[1;32m      3\u001b[0m model\u001b[38;5;241m=\u001b[39mDecisionTreeClassifier()\n\u001b[0;32m----> 5\u001b[0m model\u001b[38;5;241m.\u001b[39mfit(\u001b[43mX_train\u001b[49m,y_train)\n\u001b[1;32m      6\u001b[0m y_pred\u001b[38;5;241m=\u001b[39mmodel\u001b[38;5;241m.\u001b[39mpredict(X_test)\n\u001b[1;32m      8\u001b[0m \u001b[38;5;28mprint\u001b[39m(classification_report(y_test,y_pred))\n",
      "\u001b[0;31mNameError\u001b[0m: name 'X_train' is not defined"
     ]
    }
   ],
   "source": [
    "from sklearn.tree import DecisionTreeClassifier\n",
    "\n",
    "model=DecisionTreeClassifier()\n",
    "\n",
    "model.fit(X_train,y_train)\n",
    "y_pred=model.predict(X_test)\n",
    "\n",
    "print(classification_report(y_test,y_pred))\n",
    "\n",
    "print(confusion_matrix(y_test,y_pred))\n",
    "\n",
    "print(f\"Accuracy:{accuracy_score(y_test,y_pred)}\")"
   ]
  },
  {
   "cell_type": "code",
   "execution_count": null,
   "id": "3e14b738",
   "metadata": {
    "papermill": {
     "duration": null,
     "end_time": null,
     "exception": null,
     "start_time": null,
     "status": "pending"
    },
    "tags": []
   },
   "outputs": [],
   "source": []
  }
 ],
 "metadata": {
  "kaggle": {
   "accelerator": "none",
   "dataSources": [
    {
     "datasetId": 5659619,
     "sourceId": 9339481,
     "sourceType": "datasetVersion"
    }
   ],
   "dockerImageVersionId": 30761,
   "isGpuEnabled": false,
   "isInternetEnabled": true,
   "language": "python",
   "sourceType": "notebook"
  },
  "kernelspec": {
   "display_name": "Python 3",
   "language": "python",
   "name": "python3"
  },
  "language_info": {
   "codemirror_mode": {
    "name": "ipython",
    "version": 3
   },
   "file_extension": ".py",
   "mimetype": "text/x-python",
   "name": "python",
   "nbconvert_exporter": "python",
   "pygments_lexer": "ipython3",
   "version": "3.10.14"
  },
  "papermill": {
   "default_parameters": {},
   "duration": 18.014732,
   "end_time": "2024-09-12T23:11:47.823820",
   "environment_variables": {},
   "exception": true,
   "input_path": "__notebook__.ipynb",
   "output_path": "__notebook__.ipynb",
   "parameters": {},
   "start_time": "2024-09-12T23:11:29.809088",
   "version": "2.6.0"
  }
 },
 "nbformat": 4,
 "nbformat_minor": 5
}
